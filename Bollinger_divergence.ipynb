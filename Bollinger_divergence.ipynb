{
 "cells": [
  {
   "cell_type": "markdown",
   "metadata": {},
   "source": [
    "# 读取数据的类"
   ]
  },
  {
   "cell_type": "code",
   "execution_count": 1,
   "metadata": {
    "collapsed": true
   },
   "outputs": [],
   "source": [
    "from datetime import datetime\n",
    "import pymongo\n",
    "import pandas as pd\n",
    "\n",
    "# get data dict, key(symbol):values(dataframe)\n",
    "class mongodbCryptoData(object):\n",
    "    # get data form mongodb\n",
    "    def __init__(self, symbolList, dataDict, start, end=datetime.now(), rule='H'):\n",
    "        self.symbolList = symbolList\n",
    "        self.dataDict = dataDict\n",
    "        self.rule = rule\n",
    "        self.start = start\n",
    "        self.end = end\n",
    "        self.rule = rule\n",
    "\n",
    "    def _readAll(self, collection):\n",
    "        return pd.DataFrame(\n",
    "            list(collection.find({\"datetime\": {'$gt': self.start, '$lt': self.end}}))\n",
    "        )\n",
    "\n",
    "    def getSymbols(self):\n",
    "        for s in self.symbolList:\n",
    "            self.dataDict.update({s: self._readAll(self.dataDict[s])})\n",
    "\n",
    "    def _resampleCandle(self, df, rule):\n",
    "        df = df.set_index('datetime')\n",
    "        if rule=='1min':\n",
    "            return df\n",
    "        resampled = df.resample(rule, label='right').agg({'open':'first', 'high': 'max', 'low': 'min', 'close': 'last', 'volume':'sum'})\n",
    "        return resampled\n",
    "\n",
    "    def getSymbolsData(self):\n",
    "        for s in self.symbolList:\n",
    "            self.dataDict.update({s: self._resampleCandle(self.dataDict[s], self.rule)})\n",
    "        \n",
    "    def runDataDict(self):\n",
    "        self.getSymbols()\n",
    "        self.getSymbolsData()\n",
    "        return self.dataDict"
   ]
  },
  {
   "cell_type": "code",
   "execution_count": 2,
   "metadata": {
    "collapsed": true
   },
   "outputs": [],
   "source": [
    "# 设置数据库信息处理数据"
   ]
  },
  {
   "cell_type": "code",
   "execution_count": 3,
   "metadata": {},
   "outputs": [
    {
     "name": "stdout",
     "output_type": "stream",
     "text": [
      "['Kline_1Min_Auto_Db_Plus', 'VnTrader_15Min_Db_Coin', 'VnTrader_1Min_Db_Case', 'VnTrader_1Min_Db_Coin', 'VnTrader_30Min_Db_Coin', 'VnTrader_5Min_Db_Coin', 'VnTrader_60Min_Db_Coin', 'admin', 'config', 'local']\n"
     ]
    }
   ],
   "source": [
    "import talib as ta\n",
    "import numpy as np\n",
    "import matplotlib.pyplot as plt\n",
    "import os\n",
    "import itertools\n",
    "import warnings\n",
    "\n",
    "warnings.filterwarnings('ignore')\n",
    "# Data Config\n",
    "client = pymongo.MongoClient('localhost', 27017)\n",
    "db_names = client.list_database_names()\n",
    "print(db_names)\n",
    "symbolList = ['btc_usd_cq.future:okex', 'eos_usd_cq.future:okex']\n",
    "dataDict = { s: client['Kline_1Min_Auto_Db_Plus'][s] for s in symbolList}\n",
    "start = datetime(2019,11,20)\n",
    "end = datetime(2020, 1, 20)\n",
    "rule = '1min'\n",
    "\n",
    "mongodbData = mongodbCryptoData(symbolList, dataDict, start, end, rule)\n",
    "dataDict = mongodbData.runDataDict()\n",
    "# print(dataDict)\n",
    "btcData = dataDict['btc_usd_cq.future:okex']\n",
    "eosData = dataDict['eos_usd_cq.future:okex']\n",
    "\n",
    "coinDf = pd.concat([btcData.close, eosData.close], keys=['btcClose', 'eosClose'], axis=1)"
   ]
  },
  {
   "cell_type": "markdown",
   "metadata": {
    "collapsed": true
   },
   "source": [
    "## indicator and signal\n",
    "\n",
    "BOLLINGER BAND DIVERGENCE(from Intermarket Trading Strategies Page 123)：\n",
    "\n",
    "$BollingerBBottom=MA−2SD$\n",
    "$BollingerBTop=MA+2SD$\n",
    "\n",
    "$SEC1BOL=(C-BollingerBBottom)/(BollingerBTop-BollingerBBottom)$\n",
    "\n",
    "SEC1BOL=1+(C-MA+2SD)/4SD\n",
    "\n",
    "DIVERGENCE=EMA(3)[(SEC2BOL−SEC1BOL)/SEC1BOL ∗ 100]\n",
    "\n",
    "\n",
    "Exit: holdBarCount"
   ]
  },
  {
   "cell_type": "code",
   "execution_count": 23,
   "metadata": {},
   "outputs": [],
   "source": [
    "class Bollinger_divergence(object):\n",
    "    def __init__(self, coinDf, paraDict):\n",
    "        self.paraDict = paraDict\n",
    "        self.coinDf = coinDf.dropna()\n",
    "        self.maPeriod = paraDict['maPeriod']\n",
    "        self.divergenceThreshold = paraDict['divergenceThreshold']\n",
    "        self.holdBarCount = paraDict['holdBarCount']\n",
    "        self.sharpeRatio = 0\n",
    "        \n",
    "    def get_EMA(self,data, days):\n",
    "        emas = data.copy()   \n",
    "        for i in range(len(data)):\n",
    "            if i == 0:\n",
    "                emas[i] = data[i]\n",
    "            if i > 0:\n",
    "                emas[i] = ((days - 1) * emas[i - 1] + 2 * data[i]) / (days + 1)\n",
    "        return emas\n",
    "\n",
    "    \n",
    "    def idIndicator(self):\n",
    "        btcMa = self.coinDf['btcClose'].rolling(self.maPeriod).mean()\n",
    "        eosMa = self.coinDf['eosClose'].rolling(self.maPeriod).mean()\n",
    "        btcSd = self.coinDf['btcClose'].rolling(self.maPeriod).std()\n",
    "        eosSd = self.coinDf['eosClose'].rolling(self.maPeriod).std()\n",
    "        \n",
    "        btc_BollingerBBottom = btcMa - 2*btcSd\n",
    "        btc_BollingerBTop = btcMa + 2*btcSd\n",
    "        eos_BollingerBBottom = eosMa - 2*eosSd\n",
    "        eos_BollingerBTop = eosMa + 2*eosSd\n",
    "        SEC1BOL = 1 + (self.coinDf['btcClose']-btcMa+2*btcSd)/(4*btcSd)\n",
    "        SEC2BOL = 1 + (self.coinDf['eosClose']-eosMa+2*eosSd)/(4*eosSd)      \n",
    "        DIVERGENCE = [(SEC2BOL-SEC1BOL)/(SEC1BOL* 100)]         \n",
    "        EMA_DIVERGENCE = self.get_EMA(DIVERGENCE,3)\n",
    "        EMA_DIVERGENCE = np.transpose(EMA_DIVERGENCE)\n",
    "        self.coinDf['EMA_DIVERGENCE'] = EMA_DIVERGENCE\n",
    "       \n",
    "        \n",
    "    def twoSymbolChart(self):\n",
    "        coinArray = self.coinDf.T.values\n",
    "        fig, (ax1, ax3) = plt.subplots(2, 1, figsize=(15, 10))\n",
    "        ax1.plot(coinArray[0],'r')\n",
    "        ax1.grid(True)\n",
    "        ax1.legend(['btc'],loc =2)\n",
    "        ax2 = ax1.twinx()  #双坐标\n",
    "        ax2.plot(coinArray[1])\n",
    "        ax2.legend(['eos'],loc = 4)\n",
    "        ax3.plot(coinArray[2])\n",
    "        if not os.path.isdir('./idBtcEosChart'):\n",
    "            os.mkdir('./idBtcEosChart')\n",
    "            plt.savefig('./idBtcEosChart/Ma%s_Cor%s.jpg'%(self.maPeriod, self.divergenceThreshold))\n",
    "        else:\n",
    "            plt.savefig('./idBtcEosChart/Ma%s_Cor%s.jpg'%(self.maPeriod, self.divergenceThreshold))\n",
    "        \n",
    "    def calSignals(self):\n",
    "        coinArray = self.coinDf.T.values\n",
    "        eos_coinArray = coinArray[1]\n",
    "        coinShift = coinArray[2][:-1]\n",
    "        coinForward = coinArray[2][1:]\n",
    "\n",
    "        Short = np.where(coinShift<-self.divergenceThreshold, 1, 0)\n",
    "        Buy = np.where(coinShift>self.divergenceThreshold, 1, 0)\n",
    "\n",
    "        buyPoint = np.where(Buy>0)\n",
    "        shortPoint = np.where(Short>0)\n",
    "\n",
    "        buyPrice = coinArray[1][1:][buyPoint]\n",
    "        sellPrice = coinArray[1][1:][buyPoint[0]+self.holdBarCount]\n",
    "        shortPrice = coinArray[1][1:][shortPoint]\n",
    "        coverPrice = coinArray[1][1:][shortPoint[0]+self.holdBarCount]\n",
    "\n",
    "        zipBuy = zip(buyPoint[0] , (sellPrice - buyPrice))\n",
    "        zipShort = zip(shortPoint[0], (shortPrice - coverPrice))\n",
    "        return zipBuy, zipShort\n",
    "    \n",
    "    def perfPlotSave(self, zipBuy, zipShort):\n",
    "        \n",
    "        coinArray = self.coinDf.T.values\n",
    "        perfResult = sorted(itertools.chain(zipBuy, zipShort), key= lambda item: item[0])\n",
    "        \n",
    "        perfIndex = np.array(perfResult, dtype=int).T[0, :]\n",
    "        perOrderValue = np.array(perfResult).T[1, :]\n",
    "\n",
    "        priceEos = coinArray[1][1:][perfIndex]\n",
    "        perfReturn = perOrderValue/priceEos\n",
    "        sharpeRatio = perfReturn.mean()/perfReturn.std()*np.sqrt(240)\n",
    "        perfSum = perOrderValue.cumsum()\n",
    "        fig, ax4 = plt.subplots(1, 1, figsize=(15, 7))\n",
    "        ax4.plot(perfSum)\n",
    "        if not os.path.isdir('./idBtcEosPerf'):\n",
    "            os.mkdir('./idBtcEosPerf')\n",
    "            plt.savefig('./idBtcEosPerf/Ma%s_Cor%s_TH%s_HBC%s.jpg'\\\n",
    "                %(self.maPeriod, self.divergenceThreshold, self.holdBarCount))\n",
    "        else:\n",
    "            plt.savefig('./idBtcEosPerf/Ma%s_Cor%s_TH%s_HBC%s.jpg'\\\n",
    "                %(self.maPeriod, self.divergenceThreshold, self.holdBarCount))\n",
    "        self.paraDict.update({'sharpeRatio': round(sharpeRatio,3),\\\n",
    "                              'orderTime':len(perfResult)})\n",
    "        \n",
    "    def runSignalTest(self):\n",
    "        self.idIndicator()\n",
    "        self.twoSymbolChart()\n",
    "        zipBuy, zipShort = self.calSignals()\n",
    "        resultDict = self.perfPlotSave(zipBuy, zipShort)\n",
    "        return self.paraDict\n",
    "    "
   ]
  },
  {
   "cell_type": "code",
   "execution_count": 24,
   "metadata": {
    "scrolled": false
   },
   "outputs": [
    {
     "ename": "IndexError",
     "evalue": "too many indices for array",
     "output_type": "error",
     "traceback": [
      "\u001b[1;31m---------------------------------------------------------------------------\u001b[0m",
      "\u001b[1;31mIndexError\u001b[0m                                Traceback (most recent call last)",
      "\u001b[1;32m<ipython-input-24-9fafff6f27d6>\u001b[0m in \u001b[0;36m<module>\u001b[1;34m()\u001b[0m\n\u001b[0;32m      1\u001b[0m \u001b[0mparaDict\u001b[0m \u001b[1;33m=\u001b[0m \u001b[1;33m{\u001b[0m\u001b[1;34m'maPeriod'\u001b[0m\u001b[1;33m:\u001b[0m\u001b[1;36m40\u001b[0m\u001b[1;33m,\u001b[0m  \u001b[1;34m'divergenceThreshold'\u001b[0m\u001b[1;33m:\u001b[0m\u001b[1;36m20\u001b[0m\u001b[1;33m,\u001b[0m \u001b[1;34m'holdBarCount'\u001b[0m\u001b[1;33m:\u001b[0m\u001b[1;36m60\u001b[0m\u001b[1;33m}\u001b[0m\u001b[1;33m\u001b[0m\u001b[0m\n\u001b[0;32m      2\u001b[0m \u001b[0mcoinSig\u001b[0m \u001b[1;33m=\u001b[0m \u001b[0mBollinger_divergence\u001b[0m\u001b[1;33m(\u001b[0m\u001b[0mcoinDf\u001b[0m\u001b[1;33m,\u001b[0m \u001b[0mparaDict\u001b[0m\u001b[1;33m)\u001b[0m\u001b[1;33m\u001b[0m\u001b[0m\n\u001b[1;32m----> 3\u001b[1;33m \u001b[0mcoinSig\u001b[0m\u001b[1;33m.\u001b[0m\u001b[0mrunSignalTest\u001b[0m\u001b[1;33m(\u001b[0m\u001b[1;33m)\u001b[0m\u001b[1;33m\u001b[0m\u001b[0m\n\u001b[0m",
      "\u001b[1;32m<ipython-input-23-ce28d8dadb65>\u001b[0m in \u001b[0;36mrunSignalTest\u001b[1;34m(self)\u001b[0m\n\u001b[0;32m    116\u001b[0m         \u001b[0mself\u001b[0m\u001b[1;33m.\u001b[0m\u001b[0mtwoSymbolChart\u001b[0m\u001b[1;33m(\u001b[0m\u001b[1;33m)\u001b[0m\u001b[1;33m\u001b[0m\u001b[0m\n\u001b[0;32m    117\u001b[0m         \u001b[0mzipBuy\u001b[0m\u001b[1;33m,\u001b[0m \u001b[0mzipShort\u001b[0m \u001b[1;33m=\u001b[0m \u001b[0mself\u001b[0m\u001b[1;33m.\u001b[0m\u001b[0mcalSignals\u001b[0m\u001b[1;33m(\u001b[0m\u001b[1;33m)\u001b[0m\u001b[1;33m\u001b[0m\u001b[0m\n\u001b[1;32m--> 118\u001b[1;33m         \u001b[0mresultDict\u001b[0m \u001b[1;33m=\u001b[0m \u001b[0mself\u001b[0m\u001b[1;33m.\u001b[0m\u001b[0mperfPlotSave\u001b[0m\u001b[1;33m(\u001b[0m\u001b[0mzipBuy\u001b[0m\u001b[1;33m,\u001b[0m \u001b[0mzipShort\u001b[0m\u001b[1;33m)\u001b[0m\u001b[1;33m\u001b[0m\u001b[0m\n\u001b[0m\u001b[0;32m    119\u001b[0m         \u001b[1;32mreturn\u001b[0m \u001b[0mself\u001b[0m\u001b[1;33m.\u001b[0m\u001b[0mparaDict\u001b[0m\u001b[1;33m\u001b[0m\u001b[0m\n\u001b[0;32m    120\u001b[0m \u001b[1;33m\u001b[0m\u001b[0m\n",
      "\u001b[1;32m<ipython-input-23-ce28d8dadb65>\u001b[0m in \u001b[0;36mperfPlotSave\u001b[1;34m(self, zipBuy, zipShort)\u001b[0m\n\u001b[0;32m     96\u001b[0m         \u001b[0mperfResult\u001b[0m \u001b[1;33m=\u001b[0m \u001b[0msorted\u001b[0m\u001b[1;33m(\u001b[0m\u001b[0mitertools\u001b[0m\u001b[1;33m.\u001b[0m\u001b[0mchain\u001b[0m\u001b[1;33m(\u001b[0m\u001b[0mzipBuy\u001b[0m\u001b[1;33m,\u001b[0m \u001b[0mzipShort\u001b[0m\u001b[1;33m)\u001b[0m\u001b[1;33m,\u001b[0m \u001b[0mkey\u001b[0m\u001b[1;33m=\u001b[0m \u001b[1;32mlambda\u001b[0m \u001b[0mitem\u001b[0m\u001b[1;33m:\u001b[0m \u001b[0mitem\u001b[0m\u001b[1;33m[\u001b[0m\u001b[1;36m0\u001b[0m\u001b[1;33m]\u001b[0m\u001b[1;33m)\u001b[0m\u001b[1;33m\u001b[0m\u001b[0m\n\u001b[0;32m     97\u001b[0m \u001b[1;33m\u001b[0m\u001b[0m\n\u001b[1;32m---> 98\u001b[1;33m         \u001b[0mperfIndex\u001b[0m \u001b[1;33m=\u001b[0m \u001b[0mnp\u001b[0m\u001b[1;33m.\u001b[0m\u001b[0marray\u001b[0m\u001b[1;33m(\u001b[0m\u001b[0mperfResult\u001b[0m\u001b[1;33m,\u001b[0m \u001b[0mdtype\u001b[0m\u001b[1;33m=\u001b[0m\u001b[0mint\u001b[0m\u001b[1;33m)\u001b[0m\u001b[1;33m.\u001b[0m\u001b[0mT\u001b[0m\u001b[1;33m[\u001b[0m\u001b[1;36m0\u001b[0m\u001b[1;33m,\u001b[0m \u001b[1;33m:\u001b[0m\u001b[1;33m]\u001b[0m\u001b[1;33m\u001b[0m\u001b[0m\n\u001b[0m\u001b[0;32m     99\u001b[0m         \u001b[0mperOrderValue\u001b[0m \u001b[1;33m=\u001b[0m \u001b[0mnp\u001b[0m\u001b[1;33m.\u001b[0m\u001b[0marray\u001b[0m\u001b[1;33m(\u001b[0m\u001b[0mperfResult\u001b[0m\u001b[1;33m)\u001b[0m\u001b[1;33m.\u001b[0m\u001b[0mT\u001b[0m\u001b[1;33m[\u001b[0m\u001b[1;36m1\u001b[0m\u001b[1;33m,\u001b[0m \u001b[1;33m:\u001b[0m\u001b[1;33m]\u001b[0m\u001b[1;33m\u001b[0m\u001b[0m\n\u001b[0;32m    100\u001b[0m \u001b[1;33m\u001b[0m\u001b[0m\n",
      "\u001b[1;31mIndexError\u001b[0m: too many indices for array"
     ]
    }
   ],
   "source": [
    "paraDict = {'maPeriod':40,  'divergenceThreshold':20, 'holdBarCount':60}\n",
    "coinSig = Bollinger_divergence(coinDf, paraDict)\n",
    "coinSig.runSignalTest()"
   ]
  },
  {
   "cell_type": "markdown",
   "metadata": {},
   "source": [
    "## 参数优化"
   ]
  },
  {
   "cell_type": "code",
   "execution_count": 25,
   "metadata": {
    "scrolled": true
   },
   "outputs": [
    {
     "name": "stdout",
     "output_type": "stream",
     "text": [
      "[{'maPeriod': 140, 'divergenceThreshold': 2.4, 'holdBarCount': 60}, {'maPeriod': 160, 'divergenceThreshold': 2.0, 'holdBarCount': 30}, {'maPeriod': 160, 'divergenceThreshold': 2.0, 'holdBarCount': 60}, {'maPeriod': 160, 'divergenceThreshold': 2.4, 'holdBarCount': 30}, {'maPeriod': 160, 'divergenceThreshold': 2.4, 'holdBarCount': 60}]\n"
     ]
    }
   ],
   "source": [
    "import numpy as np\n",
    "from itertools import product\n",
    "\n",
    "paramDict = {'maPeriod': range(140,161,20),  \\\n",
    "            'divergenceThreshold':np.arange(2, 2.5, 0.4),'holdBarCount': range(30, 61, 30)}\n",
    "\n",
    "nameList = paramDict.keys()\n",
    "paramList = paramDict.values()\n",
    "# 使用迭代工具生产参数对组合\n",
    "productList = list(product(*paramList))\n",
    "\n",
    "# 把参数对组合打包到一个个字典组成的列表中\n",
    "settingList = []\n",
    "for p in productList:\n",
    "    d = dict(zip(nameList, p))\n",
    "    settingList.append(d)\n",
    "\n",
    "print(settingList[-5:])"
   ]
  },
  {
   "cell_type": "code",
   "execution_count": 27,
   "metadata": {
    "scrolled": true
   },
   "outputs": [
    {
     "ename": "TypeError",
     "evalue": "not enough arguments for format string",
     "output_type": "error",
     "traceback": [
      "\u001b[1;31m---------------------------------------------------------------------------\u001b[0m",
      "\u001b[1;31mTypeError\u001b[0m                                 Traceback (most recent call last)",
      "\u001b[1;32m<ipython-input-27-4a6510cb2b94>\u001b[0m in \u001b[0;36m<module>\u001b[1;34m()\u001b[0m\n\u001b[0;32m      2\u001b[0m \u001b[1;32mfor\u001b[0m \u001b[0mnewParam\u001b[0m \u001b[1;32min\u001b[0m \u001b[0msettingList\u001b[0m\u001b[1;33m:\u001b[0m\u001b[1;33m\u001b[0m\u001b[0m\n\u001b[0;32m      3\u001b[0m     \u001b[0mcoinSig\u001b[0m \u001b[1;33m=\u001b[0m \u001b[0mBollinger_divergence\u001b[0m\u001b[1;33m(\u001b[0m\u001b[0mcoinDf\u001b[0m\u001b[1;33m,\u001b[0m \u001b[0mnewParam\u001b[0m\u001b[1;33m)\u001b[0m\u001b[1;33m\u001b[0m\u001b[0m\n\u001b[1;32m----> 4\u001b[1;33m     \u001b[0mparamResult\u001b[0m \u001b[1;33m=\u001b[0m \u001b[0mcoinSig\u001b[0m\u001b[1;33m.\u001b[0m\u001b[0mrunSignalTest\u001b[0m\u001b[1;33m(\u001b[0m\u001b[1;33m)\u001b[0m\u001b[1;33m\u001b[0m\u001b[0m\n\u001b[0m\u001b[0;32m      5\u001b[0m     \u001b[0mparamResultList\u001b[0m\u001b[1;33m.\u001b[0m\u001b[0mappend\u001b[0m\u001b[1;33m(\u001b[0m\u001b[0mparamResult\u001b[0m\u001b[1;33m)\u001b[0m\u001b[1;33m\u001b[0m\u001b[0m\n\u001b[0;32m      6\u001b[0m     \u001b[0mprint\u001b[0m\u001b[1;33m(\u001b[0m\u001b[1;34m'Done:'\u001b[0m\u001b[1;33m,\u001b[0m \u001b[0mnewParam\u001b[0m\u001b[1;33m)\u001b[0m\u001b[1;33m\u001b[0m\u001b[0m\n",
      "\u001b[1;32m<ipython-input-23-ce28d8dadb65>\u001b[0m in \u001b[0;36mrunSignalTest\u001b[1;34m(self)\u001b[0m\n\u001b[0;32m    116\u001b[0m         \u001b[0mself\u001b[0m\u001b[1;33m.\u001b[0m\u001b[0mtwoSymbolChart\u001b[0m\u001b[1;33m(\u001b[0m\u001b[1;33m)\u001b[0m\u001b[1;33m\u001b[0m\u001b[0m\n\u001b[0;32m    117\u001b[0m         \u001b[0mzipBuy\u001b[0m\u001b[1;33m,\u001b[0m \u001b[0mzipShort\u001b[0m \u001b[1;33m=\u001b[0m \u001b[0mself\u001b[0m\u001b[1;33m.\u001b[0m\u001b[0mcalSignals\u001b[0m\u001b[1;33m(\u001b[0m\u001b[1;33m)\u001b[0m\u001b[1;33m\u001b[0m\u001b[0m\n\u001b[1;32m--> 118\u001b[1;33m         \u001b[0mresultDict\u001b[0m \u001b[1;33m=\u001b[0m \u001b[0mself\u001b[0m\u001b[1;33m.\u001b[0m\u001b[0mperfPlotSave\u001b[0m\u001b[1;33m(\u001b[0m\u001b[0mzipBuy\u001b[0m\u001b[1;33m,\u001b[0m \u001b[0mzipShort\u001b[0m\u001b[1;33m)\u001b[0m\u001b[1;33m\u001b[0m\u001b[0m\n\u001b[0m\u001b[0;32m    119\u001b[0m         \u001b[1;32mreturn\u001b[0m \u001b[0mself\u001b[0m\u001b[1;33m.\u001b[0m\u001b[0mparaDict\u001b[0m\u001b[1;33m\u001b[0m\u001b[0m\n\u001b[0;32m    120\u001b[0m \u001b[1;33m\u001b[0m\u001b[0m\n",
      "\u001b[1;32m<ipython-input-23-ce28d8dadb65>\u001b[0m in \u001b[0;36mperfPlotSave\u001b[1;34m(self, zipBuy, zipShort)\u001b[0m\n\u001b[0;32m    109\u001b[0m             \u001b[0mplt\u001b[0m\u001b[1;33m.\u001b[0m\u001b[0msavefig\u001b[0m\u001b[1;33m(\u001b[0m\u001b[1;34m'./idBtcEosPerf/Ma%s_Cor%s_TH%s_HBC%s.jpg'\u001b[0m                \u001b[1;33m%\u001b[0m\u001b[1;33m(\u001b[0m\u001b[0mself\u001b[0m\u001b[1;33m.\u001b[0m\u001b[0mmaPeriod\u001b[0m\u001b[1;33m,\u001b[0m \u001b[0mself\u001b[0m\u001b[1;33m.\u001b[0m\u001b[0mdivergenceThreshold\u001b[0m\u001b[1;33m,\u001b[0m \u001b[0mself\u001b[0m\u001b[1;33m.\u001b[0m\u001b[0mholdBarCount\u001b[0m\u001b[1;33m)\u001b[0m\u001b[1;33m)\u001b[0m\u001b[1;33m\u001b[0m\u001b[0m\n\u001b[0;32m    110\u001b[0m         \u001b[1;32melse\u001b[0m\u001b[1;33m:\u001b[0m\u001b[1;33m\u001b[0m\u001b[0m\n\u001b[1;32m--> 111\u001b[1;33m             \u001b[0mplt\u001b[0m\u001b[1;33m.\u001b[0m\u001b[0msavefig\u001b[0m\u001b[1;33m(\u001b[0m\u001b[1;34m'./idBtcEosPerf/Ma%s_Cor%s_TH%s_HBC%s.jpg'\u001b[0m                \u001b[1;33m%\u001b[0m\u001b[1;33m(\u001b[0m\u001b[0mself\u001b[0m\u001b[1;33m.\u001b[0m\u001b[0mmaPeriod\u001b[0m\u001b[1;33m,\u001b[0m \u001b[0mself\u001b[0m\u001b[1;33m.\u001b[0m\u001b[0mdivergenceThreshold\u001b[0m\u001b[1;33m,\u001b[0m \u001b[0mself\u001b[0m\u001b[1;33m.\u001b[0m\u001b[0mholdBarCount\u001b[0m\u001b[1;33m)\u001b[0m\u001b[1;33m)\u001b[0m\u001b[1;33m\u001b[0m\u001b[0m\n\u001b[0m\u001b[0;32m    112\u001b[0m         \u001b[0mself\u001b[0m\u001b[1;33m.\u001b[0m\u001b[0mparaDict\u001b[0m\u001b[1;33m.\u001b[0m\u001b[0mupdate\u001b[0m\u001b[1;33m(\u001b[0m\u001b[1;33m{\u001b[0m\u001b[1;34m'sharpeRatio'\u001b[0m\u001b[1;33m:\u001b[0m \u001b[0mround\u001b[0m\u001b[1;33m(\u001b[0m\u001b[0msharpeRatio\u001b[0m\u001b[1;33m,\u001b[0m\u001b[1;36m3\u001b[0m\u001b[1;33m)\u001b[0m\u001b[1;33m,\u001b[0m                              \u001b[1;34m'orderTime'\u001b[0m\u001b[1;33m:\u001b[0m\u001b[0mlen\u001b[0m\u001b[1;33m(\u001b[0m\u001b[0mperfResult\u001b[0m\u001b[1;33m)\u001b[0m\u001b[1;33m}\u001b[0m\u001b[1;33m)\u001b[0m\u001b[1;33m\u001b[0m\u001b[0m\n\u001b[0;32m    113\u001b[0m \u001b[1;33m\u001b[0m\u001b[0m\n",
      "\u001b[1;31mTypeError\u001b[0m: not enough arguments for format string"
     ]
    }
   ],
   "source": [
    "paramResultList = []\n",
    "for newParam in settingList:\n",
    "    coinSig = Bollinger_divergence(coinDf, newParam)\n",
    "    paramResult = coinSig.runSignalTest()\n",
    "    paramResultList.append(paramResult)\n",
    "    print('Done:', newParam)"
   ]
  },
  {
   "cell_type": "code",
   "execution_count": 74,
   "metadata": {
    "collapsed": true
   },
   "outputs": [],
   "source": [
    "result = pd.DataFrame(paramResultList).sort_values('sharpeRatio', ascending=False)"
   ]
  },
  {
   "cell_type": "code",
   "execution_count": 75,
   "metadata": {
    "collapsed": true
   },
   "outputs": [],
   "source": [
    "resultOrder = result[(result.orderTime>20) & (result.sharpeRatio>0)]"
   ]
  },
  {
   "cell_type": "code",
   "execution_count": 76,
   "metadata": {},
   "outputs": [
    {
     "data": {
      "text/html": [
       "<div>\n",
       "<style scoped>\n",
       "    .dataframe tbody tr th:only-of-type {\n",
       "        vertical-align: middle;\n",
       "    }\n",
       "\n",
       "    .dataframe tbody tr th {\n",
       "        vertical-align: top;\n",
       "    }\n",
       "\n",
       "    .dataframe thead th {\n",
       "        text-align: right;\n",
       "    }\n",
       "</style>\n",
       "<table border=\"1\" class=\"dataframe\">\n",
       "  <thead>\n",
       "    <tr style=\"text-align: right;\">\n",
       "      <th></th>\n",
       "      <th>maPeriod</th>\n",
       "      <th>corPeriod</th>\n",
       "      <th>idThreshold</th>\n",
       "      <th>holdBarCount</th>\n",
       "      <th>sharpeRatio</th>\n",
       "      <th>orderTime</th>\n",
       "    </tr>\n",
       "  </thead>\n",
       "  <tbody>\n",
       "    <tr>\n",
       "      <td>2</td>\n",
       "      <td>140</td>\n",
       "      <td>20</td>\n",
       "      <td>2.4</td>\n",
       "      <td>30</td>\n",
       "      <td>1.509</td>\n",
       "      <td>53</td>\n",
       "    </tr>\n",
       "    <tr>\n",
       "      <td>3</td>\n",
       "      <td>140</td>\n",
       "      <td>20</td>\n",
       "      <td>2.4</td>\n",
       "      <td>60</td>\n",
       "      <td>1.417</td>\n",
       "      <td>53</td>\n",
       "    </tr>\n",
       "    <tr>\n",
       "      <td>11</td>\n",
       "      <td>160</td>\n",
       "      <td>20</td>\n",
       "      <td>2.4</td>\n",
       "      <td>60</td>\n",
       "      <td>0.446</td>\n",
       "      <td>63</td>\n",
       "    </tr>\n",
       "    <tr>\n",
       "      <td>15</td>\n",
       "      <td>160</td>\n",
       "      <td>30</td>\n",
       "      <td>2.4</td>\n",
       "      <td>60</td>\n",
       "      <td>0.103</td>\n",
       "      <td>68</td>\n",
       "    </tr>\n",
       "  </tbody>\n",
       "</table>\n",
       "</div>"
      ],
      "text/plain": [
       "    maPeriod  corPeriod  idThreshold  holdBarCount  sharpeRatio  orderTime\n",
       "2        140         20          2.4            30        1.509         53\n",
       "3        140         20          2.4            60        1.417         53\n",
       "11       160         20          2.4            60        0.446         63\n",
       "15       160         30          2.4            60        0.103         68"
      ]
     },
     "execution_count": 76,
     "metadata": {},
     "output_type": "execute_result"
    }
   ],
   "source": [
    "resultOrder"
   ]
  },
  {
   "cell_type": "code",
   "execution_count": 77,
   "metadata": {
    "collapsed": true
   },
   "outputs": [],
   "source": [
    "resultOrder.to_excel('date%s%s%s%s.xlsx'%(str(start.year),str(start.month),str(end.year),str(end.month)))"
   ]
  },
  {
   "cell_type": "code",
   "execution_count": null,
   "metadata": {
    "collapsed": true
   },
   "outputs": [],
   "source": []
  }
 ],
 "metadata": {
  "kernelspec": {
   "display_name": "Python 3",
   "language": "python",
   "name": "python3"
  },
  "language_info": {
   "codemirror_mode": {
    "name": "ipython",
    "version": 3
   },
   "file_extension": ".py",
   "mimetype": "text/x-python",
   "name": "python",
   "nbconvert_exporter": "python",
   "pygments_lexer": "ipython3",
   "version": "3.6.2"
  }
 },
 "nbformat": 4,
 "nbformat_minor": 2
}
